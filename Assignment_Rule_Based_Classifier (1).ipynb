{
 "cells": [
  {
   "cell_type": "markdown",
   "metadata": {},
   "source": [
    "### Rule-Based Penguins in Pandas\n",
    "The objective of this task is to categorize or forecast a particular type of penguins using two characteristics accessible in the dataset. Similar to the approach we demonstrated in class on Monday, you will create your own rule-oriented classifier utilizing two threshold parameters for the selected feature."
   ]
  },
  {
   "cell_type": "markdown",
   "metadata": {},
   "source": [
    "Brandon Mitchell and Michael Hvizdos"
   ]
  },
  {
   "cell_type": "code",
   "execution_count": 10,
   "metadata": {},
   "outputs": [
    {
     "data": {
      "text/html": [
       "        <script type=\"text/javascript\">\n",
       "        window.PlotlyConfig = {MathJaxConfig: 'local'};\n",
       "        if (window.MathJax && window.MathJax.Hub && window.MathJax.Hub.Config) {window.MathJax.Hub.Config({SVG: {font: \"STIX-Web\"}});}\n",
       "        if (typeof require !== 'undefined') {\n",
       "        require.undef(\"plotly\");\n",
       "        requirejs.config({\n",
       "            paths: {\n",
       "                'plotly': ['https://cdn.plot.ly/plotly-2.18.2.min']\n",
       "            }\n",
       "        });\n",
       "        require(['plotly'], function(Plotly) {\n",
       "            window._Plotly = Plotly;\n",
       "        });\n",
       "        }\n",
       "        </script>\n",
       "        "
      ]
     },
     "metadata": {},
     "output_type": "display_data"
    }
   ],
   "source": [
    "import pandas as pd\n",
    "import plotly as plt\n",
    "import plotly.express as px\n",
    "plt.offline.init_notebook_mode(connected=True)"
   ]
  },
  {
   "cell_type": "code",
   "execution_count": 11,
   "metadata": {},
   "outputs": [
    {
     "name": "stdout",
     "output_type": "stream",
     "text": [
      "WARNING: pip is being invoked by an old script wrapper. This will fail in a future version of pip.\n",
      "Please see https://github.com/pypa/pip/issues/5599 for advice on fixing the underlying issue.\n",
      "To avoid this problem you can invoke Python with '-m pip' instead of running pip directly.\n",
      "Defaulting to user installation because normal site-packages is not writeable\n",
      "Requirement already satisfied: pandas in /home/codio/.local/lib/python3.6/site-packages (1.1.5)\n",
      "Requirement already satisfied: python-dateutil>=2.7.3 in /usr/local/lib/python3.6/dist-packages (from pandas) (2.8.0)\n",
      "Requirement already satisfied: numpy>=1.15.4 in /usr/local/lib/python3.6/dist-packages (from pandas) (1.16.3)\n",
      "Requirement already satisfied: pytz>=2017.2 in /home/codio/.local/lib/python3.6/site-packages (from pandas) (2022.7.1)\n",
      "Requirement already satisfied: six>=1.5 in /usr/lib/python3/dist-packages (from python-dateutil>=2.7.3->pandas) (1.11.0)\n",
      "WARNING: pip is being invoked by an old script wrapper. This will fail in a future version of pip.\n",
      "Please see https://github.com/pypa/pip/issues/5599 for advice on fixing the underlying issue.\n",
      "To avoid this problem you can invoke Python with '-m pip' instead of running pip directly.\n",
      "Defaulting to user installation because normal site-packages is not writeable\n",
      "Requirement already satisfied: plotly in /home/codio/.local/lib/python3.6/site-packages (5.13.1)\n",
      "Requirement already satisfied: tenacity>=6.2.0 in /home/codio/.local/lib/python3.6/site-packages (from plotly) (8.2.2)\n"
     ]
    }
   ],
   "source": [
    "!pip install pandas\n",
    "!pip install plotly"
   ]
  },
  {
   "cell_type": "code",
   "execution_count": 12,
   "metadata": {},
   "outputs": [
    {
     "name": "stdout",
     "output_type": "stream",
     "text": [
      "WARNING: pip is being invoked by an old script wrapper. This will fail in a future version of pip.\n",
      "Please see https://github.com/pypa/pip/issues/5599 for advice on fixing the underlying issue.\n",
      "To avoid this problem you can invoke Python with '-m pip' instead of running pip directly.\n",
      "Requirement already satisfied: plotly in /home/codio/.local/lib/python3.6/site-packages (5.13.1)\n",
      "Requirement already satisfied: codio in /home/codio/.local/lib/python3.6/site-packages (0.1.0)\n",
      "Requirement already satisfied: tenacity>=6.2.0 in /home/codio/.local/lib/python3.6/site-packages (from plotly) (8.2.2)\n",
      "Requirement already satisfied: Click>=7.0 in /home/codio/.local/lib/python3.6/site-packages (from codio) (8.0.4)\n",
      "Requirement already satisfied: importlib-metadata in /home/codio/.local/lib/python3.6/site-packages (from Click>=7.0->codio) (4.8.3)\n",
      "Requirement already satisfied: typing-extensions>=3.6.4 in /home/codio/.local/lib/python3.6/site-packages (from importlib-metadata->Click>=7.0->codio) (4.1.1)\n",
      "Requirement already satisfied: zipp>=0.5 in /home/codio/.local/lib/python3.6/site-packages (from importlib-metadata->Click>=7.0->codio) (3.6.0)\n",
      "WARNING: pip is being invoked by an old script wrapper. This will fail in a future version of pip.\n",
      "Please see https://github.com/pypa/pip/issues/5599 for advice on fixing the underlying issue.\n",
      "To avoid this problem you can invoke Python with '-m pip' instead of running pip directly.\n",
      "Defaulting to user installation because normal site-packages is not writeable\n",
      "Requirement already satisfied: packaging in /home/codio/.local/lib/python3.6/site-packages (21.3)\n",
      "Requirement already satisfied: pyparsing!=3.0.5,>=2.0.2 in /usr/local/lib/python3.6/dist-packages (from packaging) (2.4.0)\n"
     ]
    }
   ],
   "source": [
    "# install libraries if needed\n",
    "# !pip3 install pandas --user codio\n",
    "!pip3 install plotly --user codio\n",
    "!pip install packaging"
   ]
  },
  {
   "cell_type": "code",
   "execution_count": 13,
   "metadata": {},
   "outputs": [
    {
     "data": {
      "text/plain": [
       "(344, 7)"
      ]
     },
     "execution_count": 13,
     "metadata": {},
     "output_type": "execute_result"
    }
   ],
   "source": [
    "df = pd.read_csv(\"penguins.csv\")\n",
    "df.shape"
   ]
  },
  {
   "cell_type": "code",
   "execution_count": 14,
   "metadata": {},
   "outputs": [
    {
     "data": {
      "text/html": [
       "<div>\n",
       "<style scoped>\n",
       "    .dataframe tbody tr th:only-of-type {\n",
       "        vertical-align: middle;\n",
       "    }\n",
       "\n",
       "    .dataframe tbody tr th {\n",
       "        vertical-align: top;\n",
       "    }\n",
       "\n",
       "    .dataframe thead th {\n",
       "        text-align: right;\n",
       "    }\n",
       "</style>\n",
       "<table border=\"1\" class=\"dataframe\">\n",
       "  <thead>\n",
       "    <tr style=\"text-align: right;\">\n",
       "      <th></th>\n",
       "      <th>species</th>\n",
       "      <th>island</th>\n",
       "      <th>bill_length_mm</th>\n",
       "      <th>bill_depth_mm</th>\n",
       "      <th>flipper_length_mm</th>\n",
       "      <th>body_mass_g</th>\n",
       "      <th>sex</th>\n",
       "    </tr>\n",
       "  </thead>\n",
       "  <tbody>\n",
       "    <tr>\n",
       "      <th>0</th>\n",
       "      <td>Adelie</td>\n",
       "      <td>Torgersen</td>\n",
       "      <td>39.1</td>\n",
       "      <td>18.7</td>\n",
       "      <td>181.0</td>\n",
       "      <td>3750.0</td>\n",
       "      <td>male</td>\n",
       "    </tr>\n",
       "    <tr>\n",
       "      <th>1</th>\n",
       "      <td>Adelie</td>\n",
       "      <td>Torgersen</td>\n",
       "      <td>39.5</td>\n",
       "      <td>17.4</td>\n",
       "      <td>186.0</td>\n",
       "      <td>3800.0</td>\n",
       "      <td>female</td>\n",
       "    </tr>\n",
       "    <tr>\n",
       "      <th>2</th>\n",
       "      <td>Adelie</td>\n",
       "      <td>Torgersen</td>\n",
       "      <td>40.3</td>\n",
       "      <td>18.0</td>\n",
       "      <td>195.0</td>\n",
       "      <td>3250.0</td>\n",
       "      <td>female</td>\n",
       "    </tr>\n",
       "    <tr>\n",
       "      <th>3</th>\n",
       "      <td>Adelie</td>\n",
       "      <td>Torgersen</td>\n",
       "      <td>NaN</td>\n",
       "      <td>NaN</td>\n",
       "      <td>NaN</td>\n",
       "      <td>NaN</td>\n",
       "      <td>NaN</td>\n",
       "    </tr>\n",
       "    <tr>\n",
       "      <th>4</th>\n",
       "      <td>Adelie</td>\n",
       "      <td>Torgersen</td>\n",
       "      <td>36.7</td>\n",
       "      <td>19.3</td>\n",
       "      <td>193.0</td>\n",
       "      <td>3450.0</td>\n",
       "      <td>female</td>\n",
       "    </tr>\n",
       "  </tbody>\n",
       "</table>\n",
       "</div>"
      ],
      "text/plain": [
       "  species     island  bill_length_mm  bill_depth_mm  flipper_length_mm  \\\n",
       "0  Adelie  Torgersen            39.1           18.7              181.0   \n",
       "1  Adelie  Torgersen            39.5           17.4              186.0   \n",
       "2  Adelie  Torgersen            40.3           18.0              195.0   \n",
       "3  Adelie  Torgersen             NaN            NaN                NaN   \n",
       "4  Adelie  Torgersen            36.7           19.3              193.0   \n",
       "\n",
       "   body_mass_g     sex  \n",
       "0       3750.0    male  \n",
       "1       3800.0  female  \n",
       "2       3250.0  female  \n",
       "3          NaN     NaN  \n",
       "4       3450.0  female  "
      ]
     },
     "execution_count": 14,
     "metadata": {},
     "output_type": "execute_result"
    }
   ],
   "source": [
    "df.head()"
   ]
  },
  {
   "cell_type": "markdown",
   "metadata": {},
   "source": [
    "### Problem 1\n",
    "Develop a Python function that receives three arguments, including two threshold values utilized by the rule-oriented classifier and the species type, such as Adelie penguin, you wish to forecast using the classifier. The function should return a Pandas dataframe as the confusion matrix output and precision and recall metrics for your model."
   ]
  },
  {
   "cell_type": "code",
   "execution_count": 15,
   "metadata": {},
   "outputs": [],
   "source": [
    "def rule_based_class(threshold1, threshold2, species):\n",
    "    penguins = pd.read_csv('penguins.csv')\n",
    "    #This makes a column that will specify the models predicted species based on the thresholds given by \n",
    "    penguins['predicted_species'] = penguins.apply(lambda row: 'Gentoo' if row['body_mass_g'] > threshold1 else 'Adelie' if row['bill_length_mm'] < threshold2 else 'Chinstrap', axis=1)\n",
    "    #This will make the model know which species the user wants to predict\n",
    "    penguins = penguins[penguins['species'] == species]\n",
    "    #True positive (where predictions are correct)\n",
    "    tp = len(penguins[(penguins['species'] == species) & (penguins['predicted_species'] == species)])\n",
    "    #False Positives (where predictions guess the specified species but it is not correct)\n",
    "    fp = len(penguins[(penguins['species'] != species) & (penguins['predicted_species'] == species)])\n",
    "    #False Negatives (where predictions guess incorrect species even though that is not correct)\n",
    "    fn = len(penguins[(penguins['species'] == species) & (penguins['predicted_species'] != species)])\n",
    "    #True Negatives (where the predictions guess it is not the specified species and it is not)\n",
    "    tn = len(penguins[(penguins['species'] != species) & (penguins['predicted_species'] != species)])\n",
    "\n",
    "    #The true positives divided by the total of postives makes the precision (to see if correct species was checked)\n",
    "    precision = tp / (tp + fp)\n",
    "    #The recall determines what the ratio of correctness the model is at\n",
    "    recall = tp / (tp + fn)\n",
    "    #The confusion matrix will show the distribution of predictions by the model\n",
    "    confusion_matrix = pd.DataFrame({'Predicted ' + species: [tp, fp], 'Predicted Not ' + species: [fn, tn]}, index=['Actual ' + species, 'Actual Not ' + species])\n",
    "    #returns the necessary materials for analysis \n",
    "    return confusion_matrix, precision, recall"
   ]
  },
  {
   "cell_type": "code",
   "execution_count": 16,
   "metadata": {},
   "outputs": [
    {
     "name": "stdout",
     "output_type": "stream",
     "text": [
      "Confusion Matrix:\n"
     ]
    },
    {
     "data": {
      "text/html": [
       "<div>\n",
       "<style scoped>\n",
       "    .dataframe tbody tr th:only-of-type {\n",
       "        vertical-align: middle;\n",
       "    }\n",
       "\n",
       "    .dataframe tbody tr th {\n",
       "        vertical-align: top;\n",
       "    }\n",
       "\n",
       "    .dataframe thead th {\n",
       "        text-align: right;\n",
       "    }\n",
       "</style>\n",
       "<table border=\"1\" class=\"dataframe\">\n",
       "  <thead>\n",
       "    <tr style=\"text-align: right;\">\n",
       "      <th></th>\n",
       "      <th>Predicted Gentoo</th>\n",
       "      <th>Predicted Not Gentoo</th>\n",
       "    </tr>\n",
       "  </thead>\n",
       "  <tbody>\n",
       "    <tr>\n",
       "      <th>Actual Gentoo</th>\n",
       "      <td>61</td>\n",
       "      <td>63</td>\n",
       "    </tr>\n",
       "    <tr>\n",
       "      <th>Actual Not Gentoo</th>\n",
       "      <td>0</td>\n",
       "      <td>0</td>\n",
       "    </tr>\n",
       "  </tbody>\n",
       "</table>\n",
       "</div>"
      ],
      "text/plain": [
       "                   Predicted Gentoo  Predicted Not Gentoo\n",
       "Actual Gentoo                    61                    63\n",
       "Actual Not Gentoo                 0                     0"
      ]
     },
     "metadata": {},
     "output_type": "display_data"
    },
    {
     "name": "stdout",
     "output_type": "stream",
     "text": [
      "Precision: 1.0\n",
      "Recall: 0.49193548387096775\n"
     ]
    }
   ],
   "source": [
    "confusion_matrix, precision, recall = rule_based_class(5000, 400, 'Gentoo')\n",
    "print('Confusion Matrix:')\n",
    "display(confusion_matrix)\n",
    "print('Precision:', precision)\n",
    "print('Recall:', recall)"
   ]
  },
  {
   "cell_type": "markdown",
   "metadata": {},
   "source": [
    "### Problem 2\n",
    "Subsequently, employing the ipwidgets interactive library, enable users to construct their models by designating specific species and thresholds. Your \"interact\" function must generate a plot, confusion matrix, and precision/recall metrics. Ensure that the output of the model is clearly displayed by correctly color-coding the predicted and actual values and accurately labeling the results."
   ]
  },
  {
   "cell_type": "code",
   "execution_count": 17,
   "metadata": {},
   "outputs": [],
   "source": [
    "import matplotlib.pyplot as plt\n",
    "import ipywidgets as widgets\n",
    "from ipywidgets import interactive\n",
    "def rule_based_class():\n",
    "    penguins = pd.read_csv('penguins.csv')\n",
    "    #creates a function that takes three inputs as an argument \n",
    "    def predict_species(threshold1, threshold2, species):\n",
    "        #This makes a column that will specify the models predicted species based on the thresholds given by \n",
    "        penguins['predicted_species'] = penguins.apply(lambda row: 'Gentoo' if row['body_mass_g'] > threshold1 else 'Adelie' if row['bill_length_mm'] < threshold2 else 'Chinstrap', axis=1)\n",
    "        #This will make the model know which species the user wants to predict\n",
    "        penguins_filtered = penguins[penguins['species'] == species]\n",
    "        #True positive (where predictions are correct)\n",
    "        tp = len(penguins_filtered[(penguins_filtered['species'] == species) & (penguins_filtered['predicted_species'] == species)])\n",
    "        #False Positives (where predictions guess the specified species but it is not correct)\n",
    "        fp = len(penguins_filtered[(penguins_filtered['species'] != species) & (penguins_filtered['predicted_species'] == species)])\n",
    "        #False Negatives (where predictions guess incorrect species even though that is not correct)\n",
    "        fn = len(penguins_filtered[(penguins_filtered['species'] == species) & (penguins_filtered['predicted_species'] != species)])\n",
    "        #True Negatives (where the predictions guess it is not the specified species and it is not)\n",
    "        tn = len(penguins_filtered[(penguins_filtered['species'] != species) & (penguins_filtered['predicted_species'] != species)])\n",
    "        #The true positives divided by the total of postives makes the precision (to see if correct species was checked)\n",
    "        precision = tp / (tp + fp)\n",
    "        #The recall determines what the ratio of correctness the model is at\n",
    "        recall = tp / (tp + fn)\n",
    "        #The confusion matrix will show the distribution of predictions by the model\n",
    "        confusion_matrix = pd.DataFrame({'Predicted ' + species: [tp, fp], 'Predicted Not ' + species: [fn, tn]}, index=['Actual ' + species, 'Actual Not ' + species])\n",
    "        #THESE NEXT 5 lines create a bar chart that will show the amount of correct predictions the model makes\n",
    "        #based on the interactive inputs the user will specify \n",
    "        ax = confusion_matrix.plot(kind='bar', stacked=True, rot=0)\n",
    "        ax.set_xlabel('Actual Species')\n",
    "        ax.set_ylabel('Count')\n",
    "        ax.set_title('Confusion Matrix for ' + species)\n",
    "        plt.show()\n",
    "        #These print statements show the precison recall and confusion matrix to the user \n",
    "        print(\"Precision: {:.2f}\".format(precision))\n",
    "        print(\"Recall: {:.2f}\".format(recall))\n",
    "        display(confusion_matrix)\n",
    "\n",
    "        return confusion_matrix, precision, recall\n",
    "    #These create the interactable sliders in order to produce the desired results\n",
    "    #The max and min for the lenght and mass are specified along with which species to include\n",
    "    threshold1_slider = widgets.IntSlider(min=penguins['body_mass_g'].min(), max=penguins['body_mass_g'].max(), step=1, value=4000, description='Body Mass Threshold:')\n",
    "    threshold2_slider = widgets.FloatSlider(min=penguins['bill_length_mm'].min(), max=penguins['bill_length_mm'].max(), step=0.1, value=40, description='Bill Length Threshold:')\n",
    "    species_dropdown = widgets.Dropdown(options=penguins['species'].unique(), value='Adelie', description='Penguin Species:')\n",
    "    #Makes the interactives usable\n",
    "    output = interactive(predict_species, threshold1=threshold1_slider, threshold2=threshold2_slider, species=species_dropdown)\n",
    "    return output\n"
   ]
  },
  {
   "cell_type": "code",
   "execution_count": 18,
   "metadata": {},
   "outputs": [
    {
     "data": {
      "application/vnd.jupyter.widget-view+json": {
       "model_id": "e0ca7395412c4f06bdc80d8e04f14b6a",
       "version_major": 2,
       "version_minor": 0
      },
      "text/plain": [
       "interactive(children=(IntSlider(value=4000, description='Body Mass Threshold:', max=6300, min=2700), FloatSlid…"
      ]
     },
     "metadata": {},
     "output_type": "display_data"
    }
   ],
   "source": [
    "rule_based_class()"
   ]
  },
  {
   "cell_type": "code",
   "execution_count": null,
   "metadata": {},
   "outputs": [],
   "source": []
  }
 ],
 "metadata": {
  "kernelspec": {
   "display_name": "Python 3",
   "language": "python",
   "name": "python3"
  },
  "language_info": {
   "codemirror_mode": {
    "name": "ipython",
    "version": 3
   },
   "file_extension": ".py",
   "mimetype": "text/x-python",
   "name": "python",
   "nbconvert_exporter": "python",
   "pygments_lexer": "ipython3",
   "version": "3.6.9"
  }
 },
 "nbformat": 4,
 "nbformat_minor": 2
}
